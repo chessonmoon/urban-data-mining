{
 "cells": [
  {
   "cell_type": "code",
   "execution_count": null,
   "metadata": {
    "collapsed": true,
    "pycharm": {
     "name": "#%%\n"
    }
   },
   "outputs": [],
   "source": [
    "# -*- coding: utf-8 -*-\n",
    "\"\"\"\n",
    "@author: Bigvalue_Bigdata Lab\n",
    "\n",
    "작성자 : 구름\n",
    "목적 : SLP 단 퍼셉트론의 학습방법에 대한 이해를 위해 작성\n",
    "단층퍼셉트론은 AND연산, OR연산은 학습이 가능\n",
    "XOR에 대한 학습 불가능\n",
    "\"\"\"\n"
   ]
  },
  {
   "cell_type": "code",
   "execution_count": null,
   "outputs": [],
   "source": [
    "\n",
    "ds = [[0, 0, 0], [0, 1, 0], [1, 0, 0], [1, 1, 1]]  # AND\n",
    "# ds=[[0,0,0],[0,1,1],[1,0,1],[1,1,1]] #OR\n",
    "# ds=[[0, 0, 1], [0, 1, 1], [1, 0, 1], [1, 1, 0]]  #NAND\n",
    "# ds=[[0,0,0],[0,1,1],[1,0,1],[1,1,0]] #XOR\n"
   ],
   "metadata": {
    "collapsed": false,
    "pycharm": {
     "name": "#%%\n"
    }
   }
  },
  {
   "cell_type": "code",
   "execution_count": null,
   "outputs": [],
   "source": [
    "\n",
    "w0, w1, w2 = 0.3, 0.4, 0.1\n",
    "x0 = -1\n",
    "threshold = 0\n",
    "learning_rate = 0.05\n",
    "\n",
    "t = 0"
   ],
   "metadata": {
    "collapsed": false,
    "pycharm": {
     "name": "#%%\n"
    }
   }
  },
  {
   "cell_type": "code",
   "execution_count": null,
   "outputs": [],
   "source": [
    "\n",
    "while t < 100:\n",
    "    print('-----------------------------------' + str(t + 1) + ' 번째 루프')\n",
    "    bLearn = False\n",
    "\n",
    "    for x1, x2, y in ds:\n",
    "        # x1, x2, y = ds[2]\n",
    "        if x0 * w0 + x1 * w1 + x2 * w2 >= threshold:\n",
    "            y_hat = 1\n",
    "        else:\n",
    "            y_hat = 0\n",
    "\n",
    "        print(\"x1:{0:.0f} x2:{1:.0f} y:{2:.0f} y^:{3:.0f}\".format(x1, x2, y, y_hat))\n",
    "\n",
    "        if y != y_hat:\n",
    "            print('학습 필요 w0:{0:.2f}, w1:{1:.2f}, w2:{2:.2f}'.format(w0, w1, w2))\n",
    "            print('학습량  w0:{0:.2f}, w1:{1:.2f}, w2:{2:.2f}'.format(\n",
    "                x0 * (y - y_hat), x1 * (y - y_hat), x2 * (y - y_hat)))\n",
    "\n",
    "            w0 = w0 + learning_rate * x0 * (y - y_hat)\n",
    "            w1 = w1 + learning_rate * x1 * (y - y_hat)\n",
    "            w2 = w2 + learning_rate * x2 * (y - y_hat)\n",
    "\n",
    "            print('학습 결과 w0:{0:.2f} w1:{1:.2f} w2:{2:.2f}'.format(w0, w1, w2))\n",
    "            bLearn = True\n",
    "    t += 1\n",
    "    if not bLearn: break"
   ],
   "metadata": {
    "collapsed": false,
    "pycharm": {
     "name": "#%%\n"
    }
   }
  }
 ],
 "metadata": {
  "kernelspec": {
   "display_name": "Python 3",
   "language": "python",
   "name": "python3"
  },
  "language_info": {
   "codemirror_mode": {
    "name": "ipython",
    "version": 2
   },
   "file_extension": ".py",
   "mimetype": "text/x-python",
   "name": "python",
   "nbconvert_exporter": "python",
   "pygments_lexer": "ipython2",
   "version": "2.7.6"
  }
 },
 "nbformat": 4,
 "nbformat_minor": 0
}