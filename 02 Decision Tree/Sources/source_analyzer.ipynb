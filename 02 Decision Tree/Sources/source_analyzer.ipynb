{
 "cells": [
  {
   "cell_type": "code",
   "execution_count": null,
   "metadata": {
    "collapsed": true,
    "pycharm": {
     "name": "#%%\n"
    }
   },
   "outputs": [],
   "source": [
    "# -*- coding: utf-8 -*-\n",
    "\"\"\"\n",
    "Created on Sun Sep 12 17:22:38 2021\n",
    "\n",
    "@author: Kloud\n",
    "\n",
    "\n",
    "\"\"\"\n",
    "import pandas as pd\n",
    "import numpy as np\n",
    "import geopandas as gpd\n",
    "import os, re\n",
    "from glob import glob\n",
    "from tqdm import tqdm\n",
    "import time\n",
    "import matplotlib as mpl\n",
    "import matplotlib.pyplot as plt\n"
   ]
  },
  {
   "cell_type": "code",
   "execution_count": null,
   "outputs": [],
   "source": [
    "from google.colab import drive\n",
    "drive.mount('/content/drive')"
   ],
   "metadata": {
    "collapsed": false,
    "pycharm": {
     "name": "#%%\n"
    }
   }
  },
  {
   "cell_type": "code",
   "execution_count": null,
   "outputs": [],
   "source": [
    "import os\n",
    "os.chdir('/content/drive/MyDrive/Colab Notebooks/urban-data-mining/02 Decision Tree/')"
   ],
   "metadata": {
    "collapsed": false,
    "pycharm": {
     "name": "#%%\n"
    }
   }
  },
  {
   "cell_type": "code",
   "execution_count": null,
   "outputs": [],
   "source": [
    "\n",
    "\"\"\"학습용 데이터셋을 불러옴\"\"\"\n",
    "\n",
    "sdot_data_total = pd.read_csv('data/sdot학습데이터.csv', sep='|', encoding='cp949')\n",
    "\"\"\"전체 Sdot 평균기온과의 온도차 평균이 높으면 1, 낮으면 0으로 종속변수 생성\"\"\"\n",
    "sdot_data_total['종속'] = sdot_data_total['온도차이'].apply(lambda x: 0 if x < 0 else 1)\n",
    "\n",
    "tmp = sdot_data_total.dtypes\n",
    "\n",
    "tmp = sdot_data_total.mean()\n",
    "\n",
    "\"\"\" Tree 모형 분석을 위하 주변 도로 면적비율과, 대지면적 비율 만 불러옴 (도=X, 대=y)\"\"\"\n",
    "tmp = sdot_data_total[['도', '대', '종속']]\n"
   ],
   "metadata": {
    "collapsed": false,
    "pycharm": {
     "name": "#%%\n"
    }
   }
  },
  {
   "cell_type": "code",
   "execution_count": null,
   "outputs": [],
   "source": [
    "\n",
    "\"\"\" plot으로 고온그룹과 저온그룹을 2차원에 표시\"\"\"\n",
    "x1 = np.array(tmp[tmp['종속'] == 1][['도', '대']].fillna(0).astype('float').values)\n",
    "y1 = np.array(tmp[tmp['종속'] == 1]['종속'].values)\n",
    "y1 = y1.reshape(y1.shape[0], 1)\n",
    "\n",
    "x2 = np.array(tmp[tmp['종속'] == 0][['도', '대']].fillna(0).astype('float').values)\n",
    "y2 = np.array(tmp[tmp['종속'] == 0]['종속'].values)\n",
    "y2 = y2.reshape(y2.shape[0], 1)\n",
    "\n",
    "plt.figure(figsize=(15, 15))\n",
    "plt.scatter(x=x1[:, 0], y=x1[:, 1], marker='x', color='red', label='고온')\n",
    "plt.scatter(x=x2[:, 0], y=x2[:, 1], marker='o', color='blue', label='저온')\n",
    "plt.legend(fontsize=20)\n",
    "plt.show()\n"
   ],
   "metadata": {
    "collapsed": false,
    "pycharm": {
     "name": "#%%\n"
    }
   }
  },
  {
   "cell_type": "code",
   "execution_count": null,
   "outputs": [],
   "source": [
    "\n",
    "tmp = sdot_data_total[['도', '대', '종속']].fillna(0)\n",
    "tmp['종속']\n",
    "\n",
    "\"\"\"학습을 위하 pandas를 numpy로 변환하여 x와 y 배열 생성\"\"\"\n",
    "x = np.array(tmp[['도', '대']].astype('float').values)\n",
    "y = np.array(tmp['종속'].values)\n",
    "y = y.reshape(y.shape[0], 1)  #x배열과 shape를 같게 reshape\n"
   ],
   "metadata": {
    "collapsed": false,
    "pycharm": {
     "name": "#%%\n"
    }
   }
  },
  {
   "cell_type": "code",
   "execution_count": null,
   "outputs": [],
   "source": [
    "\n",
    "\"\"\"지니인덱스 계산 함수\"\"\"\n",
    "\n",
    "\n",
    "def GiniIndex(y):\n",
    "    total = len(y)\n",
    "    G = 1\n",
    "    for c in np.unique(y):  #종속변수의 갯수로 loop\n",
    "        # print(str(c) + \"값 : \" + str(np.power(np.where(y == c, 1, 0).sum() / total, 2)))\n",
    "        G = G - np.power(np.where(y == c, 1, 0).sum() / total, 2)\n",
    "    return G\n",
    "\n"
   ],
   "metadata": {
    "collapsed": false,
    "pycharm": {
     "name": "#%%\n"
    }
   }
  },
  {
   "cell_type": "code",
   "execution_count": null,
   "outputs": [],
   "source": [
    "\n",
    "print(str(GiniIndex(y)))\n",
    "result = '고온' if y.sum() > len(y) / 2 else '저온'\n",
    "len(y) - y.sum()\n",
    "\n"
   ],
   "metadata": {
    "collapsed": false,
    "pycharm": {
     "name": "#%%\n"
    }
   }
  },
  {
   "cell_type": "code",
   "execution_count": null,
   "outputs": [],
   "source": [
    "\"\"\"입력변수를 정렬한 후 모든 구간에서 잘라서 giniindex를 계산하여 출력 \"\"\"\n",
    "\n",
    "criteria = x[:, 0]\n",
    "criteria = np.sort(np.unique(criteria))\n",
    "total = len(y)\n",
    "I = np.array([])\n",
    "for f, l in zip(criteria[:-1], criteria[1:]):\n",
    "    split = np.mean([f, l])\n",
    "\n",
    "    s1 = y[np.where(x[:, 0] < split, True, False)]\n",
    "    s2 = y[np.where(x[:, 0] > split, True, False)]\n",
    "\n",
    "    Gini = len(s1) / total * GiniIndex(s1) + len(s2) / total * GiniIndex(s2)\n",
    "\n",
    "    I = np.append(I, np.array([f, l, split, Gini]))\n",
    "\n",
    "I = I.reshape(int(I.shape[0] / 4), 4)\n",
    "\n",
    "plt.figure(figsize=(15, 15))\n",
    "plt.scatter(x=I[:, 2], y=I[:, 3], marker='o', color='grey', label='Gini')\n",
    "plt.show()\n"
   ],
   "metadata": {
    "collapsed": false,
    "pycharm": {
     "name": "#%%\n"
    }
   }
  },
  {
   "cell_type": "code",
   "execution_count": null,
   "outputs": [],
   "source": [
    "\n",
    "\"\"\" 분할 지니인덱스 계산을 함수로 변환하여 모든 입력 변수에 대해서 계산하여 출력\"\"\"\n",
    "\n",
    "\n",
    "def split_loop(x, y):\n",
    "    criteria = x\n",
    "    criteria = np.sort(np.unique(criteria))\n",
    "    total = len(y)\n",
    "    I = np.array([])\n",
    "    for f, l in zip(criteria[:-1], criteria[1:]):\n",
    "        split = np.mean([f, l])\n",
    "\n",
    "        s1 = y[np.where(x < split, True, False)]\n",
    "        s2 = y[np.where(x > split, True, False)]\n",
    "\n",
    "        Gini = len(s1) / total * GiniIndex(s1) + len(s2) / total * GiniIndex(s2)\n",
    "\n",
    "        I = np.append(I, np.array([f, l, split, Gini]))\n",
    "\n",
    "    I = I.reshape(int(I.shape[0] / 4), 4)\n",
    "    return I\n",
    "\n"
   ],
   "metadata": {
    "collapsed": false,
    "pycharm": {
     "name": "#%%\n"
    }
   }
  },
  {
   "cell_type": "code",
   "execution_count": null,
   "outputs": [],
   "source": [
    "\n",
    "I1 = split_loop(x[:, 0], y)\n",
    "I2 = split_loop(x[:, 1], y)\n",
    "\n",
    "plt.figure(figsize=(15, 15))\n",
    "plt.scatter(x=I1[:, 2], y=I1[:, 3], marker='o', color='blue', label='도로')\n",
    "plt.scatter(x=I2[:, 2], y=I2[:, 3], marker='x', color='red', label='대지')\n",
    "plt.legend(fontsize=20)\n",
    "plt.show()\n"
   ],
   "metadata": {
    "collapsed": false,
    "pycharm": {
     "name": "#%%\n"
    }
   }
  },
  {
   "cell_type": "code",
   "execution_count": null,
   "outputs": [],
   "source": [
    "\n",
    "I1[:, 3].min()\n",
    "I2[:, 3].min()\n",
    "\n",
    "split = I2[np.where(I2[:, 3] == I2[:, 3].min(), True, False)][0, 2]\n",
    "\n",
    "y1 = y[np.where(x[:, 1] < split, True, False)]\n",
    "y2 = y[np.where(x[:, 1] > split, True, False)]\n",
    "\n",
    "len(y1)\n",
    "len(y2)\n",
    "print(GiniIndex(y1))\n",
    "result1 = '고온' if y1.sum() > len(y1) / 2 else '저온'\n",
    "len(y1) - y1.sum()\n",
    "\n",
    "print(GiniIndex(y2))\n",
    "result2 = '고온' if y2.sum() > len(y2) / 2 else '저온'\n",
    "len(y2) - y2.sum()\n"
   ],
   "metadata": {
    "collapsed": false,
    "pycharm": {
     "name": "#%%\n"
    }
   }
  },
  {
   "cell_type": "code",
   "execution_count": null,
   "outputs": [],
   "source": [
    "\n",
    "\"\"\"\n",
    "사이킷런 라이브러리를 이용하여 Dtree 분석하기\n",
    "os.environ[\"PATH\"] += os.pathsep + r'c:\\Program Files\\Graphviz\\bin\\\\'\n",
    "\"\"\"\n",
    "\n",
    "from sklearn.tree import DecisionTreeClassifier\n",
    "from sklearn.tree import export_graphviz\n",
    "from graphviz import Source\n",
    "from sklearn.metrics import classification_report, confusion_matrix\n",
    "\n",
    "tree_clf = DecisionTreeClassifier(max_depth=2)\n",
    "tree_clf.fit(x, y)\n",
    "\n",
    "score_tr = tree_clf.score(x, y)\n",
    "\n",
    "dt_dot_data = export_graphviz(tree_clf,\n",
    "                              feature_names=['do', 'de'],\n",
    "                              class_names=['low', 'high'],  # 종속변수\n",
    "                              rounded=True,\n",
    "                              filled=True)\n",
    "\n",
    "gp = Source(dt_dot_data)\n",
    "gp.format = 'png'\n",
    "img = gp.render('dtree_render', view=True)\n"
   ],
   "metadata": {
    "collapsed": false,
    "pycharm": {
     "name": "#%%\n"
    }
   }
  },
  {
   "cell_type": "code",
   "execution_count": null,
   "outputs": [],
   "source": [
    "\n",
    "\"\"\"변수중요도\"\"\"\n",
    "feature_imp = tree_clf.feature_importances_\n",
    "n_feature = len(['도', '대'])\n",
    "idx = np.arange(n_feature)\n",
    "\n",
    "plt.figure(figsize=(5, 1))\n",
    "plt.barh(idx, feature_imp, align='center')\n",
    "plt.yticks(idx, ['도', '대'])\n",
    "plt.xlabel('feature importance', size=15)\n",
    "plt.ylabel('feature', size=15)\n",
    "for i, fi in zip(idx, feature_imp):\n",
    "    plt.text(0.5, i, '%s' % fi, va='center', ha='center')\n",
    "plt.show()\n"
   ],
   "metadata": {
    "collapsed": false,
    "pycharm": {
     "name": "#%%\n"
    }
   }
  },
  {
   "cell_type": "code",
   "execution_count": null,
   "outputs": [],
   "source": [
    "\n",
    "\"\"\" Depth 변화에 따른 정확도 차이 분석 = 과적합\"\"\"\n",
    "\n",
    "depth_test = np.array([])\n",
    "for depth in range(1, 21, 1):\n",
    "    tree_clf = DecisionTreeClassifier(max_depth=depth)\n",
    "    tree_clf.fit(x, y)\n",
    "    score_tr = tree_clf.score(x, y)\n",
    "\n",
    "    depth_test = np.append(depth_test, [depth, score_tr])\n",
    "\n",
    "depth_test = depth_test.reshape(int(depth_test.shape[0] / 2), 2)\n",
    "\n",
    "print(depth_test)\n"
   ],
   "metadata": {
    "collapsed": false,
    "pycharm": {
     "name": "#%%\n"
    }
   }
  },
  {
   "cell_type": "code",
   "execution_count": null,
   "outputs": [],
   "source": [
    "\n",
    "\"\"\" 이진분류 성능평가 지표\"\"\"\n",
    "from sklearn.metrics import accuracy_score, precision_score, recall_score, f1_score\n",
    "from sklearn.metrics import confusion_matrix\n",
    "\n",
    "tree_clf = DecisionTreeClassifier(max_depth=2)\n",
    "tree_clf.fit(x, y)\n",
    "\n",
    "y_pred = tree_clf.predict(x)\n",
    "\n",
    "n = np.concatenate((y, y_pred.reshape([y_pred.shape[0], 1])), axis=1)\n",
    "\n",
    "print(\"Confusition matrix: \\n{}\".format(confusion_matrix(y, y_pred)))\n",
    "print(\"precision_score: {}\".format(precision_score(y, y_pred)))\n",
    "print(\"recall_score: {}\".format(recall_score(y, y_pred)))\n",
    "print(\"accuracy_score: {}\".format(accuracy_score(y, y_pred)))\n",
    "print(\"F1 Score: {}\".format(f1_score(y, y_pred)))\n"
   ],
   "metadata": {
    "collapsed": false,
    "pycharm": {
     "name": "#%%\n"
    }
   }
  },
  {
   "cell_type": "code",
   "execution_count": null,
   "outputs": [],
   "source": [
    "\n",
    "#ROC 커브\n",
    "from sklearn.metrics import roc_curve\n",
    "\n",
    "fpr, tpr, thresholds = roc_curve(y, tree_clf.predict_proba(x)[:, 1])\n",
    "fpr, tpr, thresholds\n",
    "\n",
    "plt.plot(fpr, tpr, 'o-', label=\"Logistic Regression\")\n",
    "plt.plot([0, 1], [0, 1], 'k--', label=\"random guess\")\n",
    "# plt.plot([fallout], [recall], 'ro', ms=10)\n",
    "plt.xlabel('위양성률(Fall-Out)')\n",
    "plt.ylabel('재현률(Recall)')\n",
    "plt.title('Receiver operating characteristic example')\n",
    "plt.show()\n"
   ],
   "metadata": {
    "collapsed": false,
    "pycharm": {
     "name": "#%%\n"
    }
   }
  },
  {
   "cell_type": "code",
   "execution_count": null,
   "outputs": [],
   "source": [
    "\n",
    "\"\"\" 모든 입력변수를 이용한 분석\"\"\"\n",
    "tmp = sdot_data_total\n",
    "\n",
    "x = np.array(tmp[tmp.columns.drop(['종속', '시리얼번호', '온도차이', '온도비율차이'])].fillna(0).astype('float').values)\n",
    "y = np.array(tmp['종속'].values)\n",
    "y = y.reshape(y.shape[0], 1)\n",
    "\n",
    "depth_test = np.array([])\n",
    "for depth in range(1, 21, 1):\n",
    "    tree_clf = DecisionTreeClassifier(max_depth=depth)\n",
    "    tree_clf.fit(x, y)\n",
    "    score_tr = tree_clf.score(x, y)\n",
    "\n",
    "    depth_test = np.append(depth_test, [depth, score_tr])\n",
    "\n",
    "depth_test = depth_test.reshape(int(depth_test.shape[0] / 2), 2)\n",
    "\n",
    "print(depth_test)\n",
    "\n",
    "\n"
   ],
   "metadata": {
    "collapsed": false,
    "pycharm": {
     "name": "#%%\n"
    }
   }
  }
 ],
 "metadata": {
  "kernelspec": {
   "display_name": "Python 3",
   "language": "python",
   "name": "python3"
  },
  "language_info": {
   "codemirror_mode": {
    "name": "ipython",
    "version": 2
   },
   "file_extension": ".py",
   "mimetype": "text/x-python",
   "name": "python",
   "nbconvert_exporter": "python",
   "pygments_lexer": "ipython2",
   "version": "2.7.6"
  }
 },
 "nbformat": 4,
 "nbformat_minor": 0
}