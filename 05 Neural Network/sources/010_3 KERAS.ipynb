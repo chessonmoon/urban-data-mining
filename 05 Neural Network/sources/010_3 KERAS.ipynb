{
 "cells": [
  {
   "cell_type": "code",
   "execution_count": null,
   "metadata": {
    "collapsed": true,
    "pycharm": {
     "name": "#%%\n"
    }
   },
   "outputs": [],
   "source": [
    "# -*- coding: utf-8 -*-\n",
    "\"\"\"\n",
    "\n",
    "@author: Bigvalue_Bigdata Lab\n",
    "\n",
    "작성자 : 구름\n",
    "목적 : KERAS를 이용한 다층퍼셉트론 구현 예시"
   ]
  },
  {
   "cell_type": "code",
   "execution_count": null,
   "outputs": [],
   "source": [
    "\n",
    "\"\"\"\n",
    "import numpy as np\n",
    "from matplotlib import pyplot as plt\n",
    "\n",
    "# ds=[[0,0,0],[0,1,0],[1,0,0],[1,1,1]] #AND\n",
    "#ds=[[0,0,0],[0,1,1],[1,0,1],[1,1,1]] #OR\n",
    "ds=[[0,0,0],[0,1,1],[1,0,1],[1,1,0]] #XOR\n",
    "\n"
   ],
   "metadata": {
    "collapsed": false,
    "pycharm": {
     "name": "#%%\n",
     "is_executing": true
    }
   }
  },
  {
   "cell_type": "code",
   "execution_count": null,
   "outputs": [],
   "source": [
    "\n",
    "\"\"\"데이터 재구성\"\"\"\n",
    "nds = np.array(ds) #넘파이로 변환\n",
    "\n",
    "x_train = nds[:,:2]\n",
    "y_train = nds[:,2:]"
   ],
   "metadata": {
    "collapsed": false,
    "pycharm": {
     "name": "#%%\n"
    }
   }
  },
  {
   "cell_type": "code",
   "execution_count": null,
   "outputs": [],
   "source": [
    "from keras.models import Sequential #개별 레이어른 선형적으로 적제하기 위한 모델\n",
    "from keras.layers import Dense #일반적인 형태의 뉴럴네트워크 계층 / 앞선 학습에 사용한 은닉/출력층에 해당\n",
    "from keras import optimizers\n",
    "\n"
   ],
   "metadata": {
    "collapsed": false,
    "pycharm": {
     "name": "#%%\n"
    }
   }
  },
  {
   "cell_type": "code",
   "execution_count": null,
   "outputs": [],
   "source": [
    "\n",
    "model = Sequential() #모델을 선언한다\n",
    "model.add(Dense(units=5, activation='relu', input_shape=(2,))) #은닉층 2개 추가, 활성함수 시그모이드\n",
    "model.add(Dense(units=2, activation='relu', input_shape=(2,))) #은닉층 2개 추가, 활성함수 시그모이드\n",
    "model.add(Dense(units=1, activation='linear')) # 출력층 1개 추가, 활성함수 시그모이드\n",
    "\n",
    "model.summary() #모델 요약\n",
    "\n",
    "\"\"\"\n",
    "Model: \"sequential\"                                               << 선형 모델입니다.\n",
    "_________________________________________________________________\n",
    "Layer (type)                 Output Shape              Param #\n",
    "=================================================================\n",
    "dense (Dense)                (None, 2)                 6          << 은닉층 2개에 파라미터가 6개 (W1 4개, B1 2개)\n",
    "_________________________________________________________________\n",
    "dense_1 (Dense)              (None, 1)                 3          << 출력층 1개에 파라미터가 3개 (W2 2개, B2 1개)\n",
    "=================================================================\n",
    "Total params: 9                                                   << 전체 파라미터는 9개 입니다.\n",
    "Trainable params: 9                                               << 학습 파라미터는 9개 입니다.\n",
    "Non-trainable params: 0\n",
    "_________________________________________________________________\n",
    "\"\"\"\n",
    "#loss함수와 학습률결정모델(optimizer) 선택하여 모델 컴파일\n",
    "model.compile(loss='mse', optimizer='adam') #learning_rate=0.1\n"
   ],
   "metadata": {
    "collapsed": false,
    "pycharm": {
     "name": "#%%\n"
    }
   }
  },
  {
   "cell_type": "code",
   "execution_count": null,
   "outputs": [],
   "source": [
    "\n",
    "#학습을 시작한다. 3천번 돌아 주세요.\n",
    "history  = model.fit(x_train, y_train, epochs=3000)\n",
    "\n"
   ],
   "metadata": {
    "collapsed": false,
    "pycharm": {
     "name": "#%%\n"
    }
   }
  },
  {
   "cell_type": "code",
   "execution_count": null,
   "outputs": [],
   "source": [
    "\n",
    "# 학습 정확성 값과 검증 정확성 값을 플롯팅 합니다.\n",
    "plt.plot(history.history['loss'])\n",
    "plt.title('Model accuracy')\n",
    "plt.ylabel('Accuracy')\n",
    "plt.xlabel('Epoch')\n",
    "plt.legend(['Loss'], loc='upper left')\n",
    "plt.show()"
   ],
   "metadata": {
    "collapsed": false,
    "pycharm": {
     "name": "#%%\n"
    }
   }
  },
  {
   "cell_type": "code",
   "execution_count": null,
   "outputs": [],
   "source": [
    "#예측 결과를 표시\n",
    "model.predict(x_train)\n",
    "\n",
    "\n",
    "\n"
   ],
   "metadata": {
    "collapsed": false,
    "pycharm": {
     "name": "#%%\n"
    }
   }
  },
  {
   "cell_type": "code",
   "execution_count": null,
   "outputs": [],
   "source": [
    "x_test = np.array([[1,2]])\n",
    "model.predict(x_test)"
   ],
   "metadata": {
    "collapsed": false,
    "pycharm": {
     "name": "#%%\n"
    }
   }
  }
 ],
 "metadata": {
  "kernelspec": {
   "display_name": "Python 3",
   "language": "python",
   "name": "python3"
  },
  "language_info": {
   "codemirror_mode": {
    "name": "ipython",
    "version": 2
   },
   "file_extension": ".py",
   "mimetype": "text/x-python",
   "name": "python",
   "nbconvert_exporter": "python",
   "pygments_lexer": "ipython2",
   "version": "2.7.6"
  }
 },
 "nbformat": 4,
 "nbformat_minor": 0
}